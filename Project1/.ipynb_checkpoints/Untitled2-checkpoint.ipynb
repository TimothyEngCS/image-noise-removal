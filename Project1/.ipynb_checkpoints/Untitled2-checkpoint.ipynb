{
 "cells": [
  {
   "cell_type": "code",
   "execution_count": 5,
   "id": "14837c2c-2a0a-4652-9244-ec0e4a8bc563",
   "metadata": {},
   "outputs": [
    {
     "ename": "FileNotFoundError",
     "evalue": "[Errno 2] No such file or directory: '/Users/tim/COMP535/project1/input_imagess'",
     "output_type": "error",
     "traceback": [
      "\u001b[0;31m---------------------------------------------------------------------------\u001b[0m",
      "\u001b[0;31mFileNotFoundError\u001b[0m                         Traceback (most recent call last)",
      "Cell \u001b[0;32mIn[5], line 63\u001b[0m\n\u001b[1;32m     60\u001b[0m output_path \u001b[38;5;241m=\u001b[39m \u001b[38;5;124m'\u001b[39m\u001b[38;5;124m/Users/tim/COMP535/project1/output_images\u001b[39m\u001b[38;5;124m'\u001b[39m\n\u001b[1;32m     61\u001b[0m sigma \u001b[38;5;241m=\u001b[39m \u001b[38;5;241m2\u001b[39m  \u001b[38;5;66;03m# Standard deviation for Gaussian kernel\u001b[39;00m\n\u001b[0;32m---> 63\u001b[0m process_images_in_parallel(input_path, output_path, sigma)\n\u001b[1;32m     64\u001b[0m display_image_pairs(input_path, output_path, num_pairs\u001b[38;5;241m=\u001b[39m\u001b[38;5;241m5\u001b[39m)\n",
      "Cell \u001b[0;32mIn[5], line 20\u001b[0m, in \u001b[0;36mprocess_images_in_parallel\u001b[0;34m(input_path, output_path, sigma)\u001b[0m\n\u001b[1;32m     18\u001b[0m \u001b[38;5;28;01mif\u001b[39;00m \u001b[38;5;129;01mnot\u001b[39;00m os\u001b[38;5;241m.\u001b[39mpath\u001b[38;5;241m.\u001b[39mexists(output_path):\n\u001b[1;32m     19\u001b[0m     os\u001b[38;5;241m.\u001b[39mmakedirs(output_path)\n\u001b[0;32m---> 20\u001b[0m image_files \u001b[38;5;241m=\u001b[39m [f \u001b[38;5;28;01mfor\u001b[39;00m f \u001b[38;5;129;01min\u001b[39;00m os\u001b[38;5;241m.\u001b[39mlistdir(input_path) \u001b[38;5;28;01mif\u001b[39;00m f\u001b[38;5;241m.\u001b[39mlower()\u001b[38;5;241m.\u001b[39mendswith((\u001b[38;5;124m'\u001b[39m\u001b[38;5;124m.png\u001b[39m\u001b[38;5;124m'\u001b[39m, \u001b[38;5;124m'\u001b[39m\u001b[38;5;124m.jpg\u001b[39m\u001b[38;5;124m'\u001b[39m, \u001b[38;5;124m'\u001b[39m\u001b[38;5;124m.jpeg\u001b[39m\u001b[38;5;124m'\u001b[39m, \u001b[38;5;124m'\u001b[39m\u001b[38;5;124m.bmp\u001b[39m\u001b[38;5;124m'\u001b[39m, \u001b[38;5;124m'\u001b[39m\u001b[38;5;124m.tiff\u001b[39m\u001b[38;5;124m'\u001b[39m))]\n\u001b[1;32m     21\u001b[0m image_paths \u001b[38;5;241m=\u001b[39m [os\u001b[38;5;241m.\u001b[39mpath\u001b[38;5;241m.\u001b[39mjoin(input_path, f) \u001b[38;5;28;01mfor\u001b[39;00m f \u001b[38;5;129;01min\u001b[39;00m image_files]\n\u001b[1;32m     23\u001b[0m \u001b[38;5;28;01mwith\u001b[39;00m ProcessPoolExecutor() \u001b[38;5;28;01mas\u001b[39;00m executor:\n",
      "\u001b[0;31mFileNotFoundError\u001b[0m: [Errno 2] No such file or directory: '/Users/tim/COMP535/project1/input_imagess'"
     ]
    }
   ],
   "source": [
    "import os\n",
    "import numpy as np\n",
    "from PIL import Image\n",
    "from scipy.ndimage import gaussian_filter\n",
    "import matplotlib.pyplot as plt\n",
    "from concurrent.futures import ProcessPoolExecutor, as_completed\n",
    "\n",
    "def process_image(image_path, output_path, sigma):\n",
    "    image = Image.open(image_path)\n",
    "    image_array = np.array(image)\n",
    "    smoothed_image_array = gaussian_filter(image_array, sigma=sigma)\n",
    "    smoothed_image = Image.fromarray(np.uint8(smoothed_image_array))\n",
    "    output_image_path = os.path.join(output_path, os.path.basename(image_path))\n",
    "    smoothed_image.save(output_image_path)\n",
    "    return output_image_path\n",
    "\n",
    "def process_images_in_parallel(input_path, output_path, sigma):\n",
    "    if not os.path.exists(output_path):\n",
    "        os.makedirs(output_path)\n",
    "    image_files = [f for f in os.listdir(input_path) if f.lower().endswith(('.png', '.jpg', '.jpeg', '.bmp', '.tiff'))]\n",
    "    image_paths = [os.path.join(input_path, f) for f in image_files]\n",
    "    \n",
    "    with ProcessPoolExecutor() as executor:\n",
    "        futures = {executor.submit(process_image, image_path, output_path, sigma): image_path for image_path in image_paths}\n",
    "        for future in as_completed(futures):\n",
    "            image_path = futures[future]\n",
    "            try:\n",
    "                result = future.result()\n",
    "                print(f\"Processed {image_path}\")\n",
    "            except Exception as e:\n",
    "                print(f\"Error processing {image_path}: {e}\")\n",
    "\n",
    "def display_image_pairs(input_path, output_path, num_pairs=5):\n",
    "    input_images = [f for f in os.listdir(input_path) if f.lower().endswith(('.png', '.jpg', '.jpeg', '.bmp', '.tiff'))]\n",
    "    image_names = input_images[:num_pairs]\n",
    "    \n",
    "    for image_name in image_names:\n",
    "        input_image_path = os.path.join(input_path, image_name)\n",
    "        output_image_path = os.path.join(output_path, image_name)\n",
    "        \n",
    "        if os.path.exists(output_image_path):\n",
    "            input_image = Image.open(input_image_path)\n",
    "            output_image = Image.open(output_image_path)\n",
    "            \n",
    "            fig, axes = plt.subplots(1, 2, figsize=(12, 6))\n",
    "            axes[0].imshow(input_image)\n",
    "            axes[0].set_title('Original Image')\n",
    "            axes[0].axis('off')\n",
    "            \n",
    "            axes[1].imshow(output_image)\n",
    "            axes[1].set_title('Smoothed Image')\n",
    "            axes[1].axis('off')\n",
    "            \n",
    "            plt.show()\n",
    "        else:\n",
    "            print(f\"Processed image not found for {image_name}\")\n",
    "\n",
    "# Replace these paths with your actual directories\n",
    "input_path = '/Users/tim/COMP535/project1/input_imagess'\n",
    "output_path = '/Users/tim/COMP535/project1/output_images'\n",
    "sigma = 2  # Standard deviation for Gaussian kernel\n",
    "\n",
    "process_images_in_parallel(input_path, output_path, sigma)\n",
    "display_image_pairs(input_path, output_path, num_pairs=5)\n"
   ]
  },
  {
   "cell_type": "code",
   "execution_count": null,
   "id": "bfea3dcc-9192-4b75-94fc-c81960b9bf8a",
   "metadata": {},
   "outputs": [],
   "source": []
  }
 ],
 "metadata": {
  "kernelspec": {
   "display_name": "Python 3 (ipykernel)",
   "language": "python",
   "name": "python3"
  },
  "language_info": {
   "codemirror_mode": {
    "name": "ipython",
    "version": 3
   },
   "file_extension": ".py",
   "mimetype": "text/x-python",
   "name": "python",
   "nbconvert_exporter": "python",
   "pygments_lexer": "ipython3",
   "version": "3.12.2"
  }
 },
 "nbformat": 4,
 "nbformat_minor": 5
}
